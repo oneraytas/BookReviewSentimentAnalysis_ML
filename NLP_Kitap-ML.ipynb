{
 "cells": [
  {
   "cell_type": "code",
   "execution_count": 1,
   "id": "9b6f084b",
   "metadata": {},
   "outputs": [],
   "source": [
    "import pandas as pd\n",
    "import numpy as np \n",
    "import pandas as pd \n",
    "import matplotlib.pyplot as plt\n",
    "import seaborn as sns\n",
    "import nltk\n",
    "from nltk.corpus import stopwords\n",
    "import time\n",
    "from sklearn.preprocessing import StandardScaler\n",
    "\n"
   ]
  },
  {
   "cell_type": "code",
   "execution_count": 2,
   "id": "e663d021",
   "metadata": {},
   "outputs": [],
   "source": [
    "df = pd.read_csv(\"kitapyorum/tb1.csv\")"
   ]
  },
  {
   "cell_type": "code",
   "execution_count": 3,
   "id": "5d11add7",
   "metadata": {},
   "outputs": [
    {
     "name": "stdout",
     "output_type": "stream",
     "text": [
      "<class 'pandas.core.frame.DataFrame'>\n",
      "RangeIndex: 405559 entries, 0 to 405558\n",
      "Data columns (total 2 columns):\n",
      " #   Column  Non-Null Count   Dtype \n",
      "---  ------  --------------   ----- \n",
      " 0   Puan    405559 non-null  int64 \n",
      " 1   Yorum   405559 non-null  object\n",
      "dtypes: int64(1), object(1)\n",
      "memory usage: 6.2+ MB\n"
     ]
    }
   ],
   "source": [
    "df.info();"
   ]
  },
  {
   "cell_type": "markdown",
   "id": "3849130c",
   "metadata": {},
   "source": [
    "### Duplicate eden yorumları siliyorum "
   ]
  },
  {
   "cell_type": "code",
   "execution_count": 4,
   "id": "175dcaf9",
   "metadata": {},
   "outputs": [],
   "source": [
    "duplicate_rows = df[df.duplicated()]\n",
    "\n",
    "df1 = df.drop_duplicates()\n"
   ]
  },
  {
   "cell_type": "markdown",
   "id": "b6ef4859",
   "metadata": {},
   "source": [
    "1433 yorum duplicate edilmiş, bu yüzden silindi"
   ]
  },
  {
   "cell_type": "code",
   "execution_count": 5,
   "id": "3f9f4927",
   "metadata": {},
   "outputs": [
    {
     "name": "stdout",
     "output_type": "stream",
     "text": [
      "<class 'pandas.core.frame.DataFrame'>\n",
      "Int64Index: 404126 entries, 0 to 404636\n",
      "Data columns (total 2 columns):\n",
      " #   Column  Non-Null Count   Dtype \n",
      "---  ------  --------------   ----- \n",
      " 0   Puan    404126 non-null  int64 \n",
      " 1   Yorum   404126 non-null  object\n",
      "dtypes: int64(1), object(1)\n",
      "memory usage: 9.2+ MB\n"
     ]
    }
   ],
   "source": [
    "df1.info()"
   ]
  },
  {
   "cell_type": "code",
   "execution_count": 6,
   "id": "ddc293c0",
   "metadata": {},
   "outputs": [
    {
     "name": "stdout",
     "output_type": "stream",
     "text": [
      "5    294353\n",
      "4     71590\n",
      "3     25809\n",
      "2      7173\n",
      "1      5201\n",
      "Name: Puan, dtype: int64\n"
     ]
    },
    {
     "name": "stderr",
     "output_type": "stream",
     "text": [
      "/Users/oner/opt/anaconda3/lib/python3.9/site-packages/seaborn/_decorators.py:36: FutureWarning: Pass the following variable as a keyword arg: x. From version 0.12, the only valid positional argument will be `data`, and passing other arguments without an explicit keyword will result in an error or misinterpretation.\n",
      "  warnings.warn(\n"
     ]
    },
    {
     "data": {
      "image/png": "[encoded data removed]",
      "text/plain": [
       "<Figure size 432x288 with 1 Axes>"
      ]
     },
     "metadata": {
      "needs_background": "light"
     },
     "output_type": "display_data"
    }
   ],
   "source": [
    "sns.countplot(df1[\"Puan\"])\n",
    "print(df1['Puan'].value_counts())"
   ]
  },
  {
   "cell_type": "markdown",
   "id": "2e780c62",
   "metadata": {},
   "source": [
    "----"
   ]
  },
  {
   "cell_type": "markdown",
   "id": "d0ef24be",
   "metadata": {},
   "source": [
    "### Olumsuz yorum ile olumlu yorumları eşitleme ## \n",
    "1. Yöntem olarak  5201 adet 1 yıldız (olumsuz) ve 5201 adet 5 yıldız(olumlu) yorum alarak 10.402 yorum ile çalışacağım.\n",
    "2. Yöntem olarak  5201 adet 1, 7173 adet 2 yıldız toplam 12374 adet olumsuz yorum, ve 12374 adet 5 yıldız olumlu olarak alarak 24748 adet yorum ile çalışacağım"
   ]
  },
  {
   "cell_type": "markdown",
   "id": "56751c04",
   "metadata": {},
   "source": [
    "### 1. Yöntem CSV"
   ]
  },
  {
   "cell_type": "code",
   "execution_count": 7,
   "id": "5a84ac4e",
   "metadata": {},
   "outputs": [],
   "source": [
    "df2 = df1[df1['Puan'] == 5].tail(5201)\n",
    "df3 = df1[df1['Puan'] == 1].tail(5201)\n",
    "df_list = [df2, df3]\n",
    "df4 = pd.concat(df_list,ignore_index=True)"
   ]
  },
  {
   "cell_type": "code",
   "execution_count": 8,
   "id": "8479c242",
   "metadata": {},
   "outputs": [
    {
     "name": "stdout",
     "output_type": "stream",
     "text": [
      "5    5201\n",
      "1    5201\n",
      "Name: Puan, dtype: int64\n"
     ]
    }
   ],
   "source": [
    "print(df4['Puan'].value_counts())"
   ]
  },
  {
   "cell_type": "markdown",
   "id": "81c897f2",
   "metadata": {},
   "source": [
    "Verileri karıştırıp stopwordleri silme ve yeni csv olarak kaydetme."
   ]
  },
  {
   "cell_type": "code",
   "execution_count": 9,
   "id": "7eac17e5",
   "metadata": {},
   "outputs": [],
   "source": [
    "df4 = df4.sample(10402)"
   ]
  },
  {
   "cell_type": "code",
   "execution_count": 10,
   "id": "7e84355c",
   "metadata": {},
   "outputs": [],
   "source": [
    "yorumlar = df4['Yorum']\n",
    "stop_words = stopwords.words('turkish')"
   ]
  },
  {
   "cell_type": "code",
   "execution_count": 11,
   "id": "4b349d9f",
   "metadata": {},
   "outputs": [
    {
     "data": {
      "text/plain": [
       "['acaba',\n",
       " 'ama',\n",
       " 'aslında',\n",
       " 'az',\n",
       " 'bazı',\n",
       " 'belki',\n",
       " 'biri',\n",
       " 'birkaç',\n",
       " 'birşey',\n",
       " 'biz',\n",
       " 'bu',\n",
       " 'çok',\n",
       " 'çünkü',\n",
       " 'da',\n",
       " 'daha',\n",
       " 'de',\n",
       " 'defa',\n",
       " 'diye',\n",
       " 'eğer',\n",
       " 'en',\n",
       " 'gibi',\n",
       " 'hem',\n",
       " 'hep',\n",
       " 'hepsi',\n",
       " 'her',\n",
       " 'hiç',\n",
       " 'için',\n",
       " 'ile',\n",
       " 'ise',\n",
       " 'kez',\n",
       " 'ki',\n",
       " 'kim',\n",
       " 'mı',\n",
       " 'mu',\n",
       " 'mü',\n",
       " 'nasıl',\n",
       " 'ne',\n",
       " 'neden',\n",
       " 'nerde',\n",
       " 'nerede',\n",
       " 'nereye',\n",
       " 'niçin',\n",
       " 'niye',\n",
       " 'o',\n",
       " 'sanki',\n",
       " 'şey',\n",
       " 'siz',\n",
       " 'şu',\n",
       " 'tüm',\n",
       " 've',\n",
       " 'veya',\n",
       " 'ya',\n",
       " 'yani']"
      ]
     },
     "execution_count": 11,
     "metadata": {},
     "output_type": "execute_result"
    }
   ],
   "source": [
    "stop_words"
   ]
  },
  {
   "cell_type": "code",
   "execution_count": 12,
   "id": "e02457c4",
   "metadata": {},
   "outputs": [],
   "source": [
    "def remove_stopwords(yorum):\n",
    "    yorum_listesi = yorum.split() # yorumu kelimelere ayırır\n",
    "    yeni_yorum = [] # stopwordleri çıkartılmış yorumu bu listeye ekleyeceğiz\n",
    "    for kelime in yorum_listesi: # yorumdaki her bir kelime için\n",
    "        if kelime not in stop_words: # kelime stopword değilse\n",
    "            yeni_yorum.append(kelime) # yeni_yorum listesine ekle\n",
    "    return ' '.join(yeni_yorum) # listeyi tekrar cümle haline getirip döndür\n",
    "\n",
    "yorumlar_stopword_cikarilmis = yorumlar.apply(remove_stopwords)"
   ]
  },
  {
   "cell_type": "code",
   "execution_count": 13,
   "id": "7a8632cb",
   "metadata": {},
   "outputs": [
    {
     "name": "stdout",
     "output_type": "stream",
     "text": [
      "3835                     Bu fiyata kitaplar kaçırılmamalı\n",
      "6370    Ramtha seminerlerinde illuminati sembolleri ba...\n",
      "8664    Nihat Sırdar ın dönemin şartlarını içeren biyo...\n",
      "9283    Çocukların belli bir yaşa kadar okumaması gere...\n",
      "3397    bağımsız öyküleri severek okusam sorusuna enge...\n",
      "                              ...                        \n",
      "3366                    bazen sıktı yınede tavsıye ederım\n",
      "8303    Kitabın içindeki şeyler sürekli tekrar ediyor ...\n",
      "838     Yeğenim almıştım Bende okudum gerçekten guzel ...\n",
      "9737    Füruzan ın okuduğum ilk kitabıdır Vasat bir ki...\n",
      "553                                  süperrrr sevdim bunu\n",
      "Name: Yorum, Length: 10402, dtype: object\n"
     ]
    }
   ],
   "source": [
    "print(yorumlar_stopword_cikarilmis)"
   ]
  },
  {
   "cell_type": "code",
   "execution_count": 14,
   "id": "81087e28",
   "metadata": {},
   "outputs": [],
   "source": [
    "df5 = df4.copy() # comments dataframe'ini kopyalayın\n",
    "df5['Yorum'] = yorumlar_stopword_cikarilmis # yorumlar sütununu güncelleyin\n"
   ]
  },
  {
   "cell_type": "code",
   "execution_count": 15,
   "id": "374c206c",
   "metadata": {},
   "outputs": [],
   "source": [
    "df5.loc[df5['Puan'] == 1, 'Puan'] = 0\n",
    "df5.loc[df5['Puan'] == 5, 'Puan'] = 1"
   ]
  },
  {
   "cell_type": "code",
   "execution_count": 16,
   "id": "3e40e1fb",
   "metadata": {},
   "outputs": [
    {
     "name": "stdout",
     "output_type": "stream",
     "text": [
      "1    5201\n",
      "0    5201\n",
      "Name: Puan, dtype: int64\n"
     ]
    }
   ],
   "source": [
    "print(df5['Puan'].value_counts())"
   ]
  },
  {
   "cell_type": "code",
   "execution_count": 17,
   "id": "120594db",
   "metadata": {},
   "outputs": [],
   "source": [
    "df5.to_csv('kitap_yorum_10402.csv', index=False)"
   ]
  },
  {
   "cell_type": "markdown",
   "id": "4f47dd1c",
   "metadata": {},
   "source": [
    "### 2.Yöntem CSV"
   ]
  },
  {
   "cell_type": "markdown",
   "id": "12e6af21",
   "metadata": {},
   "source": [
    "## 2 puanlı yorumları 1 puana dönüştürüyorum. "
   ]
  },
  {
   "cell_type": "code",
   "execution_count": 18,
   "id": "37a3b0b2",
   "metadata": {},
   "outputs": [],
   "source": [
    "df1.loc[df['Puan'] == 2, 'Puan'] = 1"
   ]
  },
  {
   "cell_type": "code",
   "execution_count": 19,
   "id": "43e15614",
   "metadata": {},
   "outputs": [
    {
     "name": "stdout",
     "output_type": "stream",
     "text": [
      "5    294353\n",
      "4     71590\n",
      "3     25809\n",
      "1     12374\n",
      "Name: Puan, dtype: int64\n"
     ]
    },
    {
     "name": "stderr",
     "output_type": "stream",
     "text": [
      "/Users/oner/opt/anaconda3/lib/python3.9/site-packages/seaborn/_decorators.py:36: FutureWarning: Pass the following variable as a keyword arg: x. From version 0.12, the only valid positional argument will be `data`, and passing other arguments without an explicit keyword will result in an error or misinterpretation.\n",
      "  warnings.warn(\n"
     ]
    },
    {
     "data": {
      "image/png": "[encoded data removed]",
      "text/plain": [
       "<Figure size 432x288 with 1 Axes>"
      ]
     },
     "metadata": {
      "needs_background": "light"
     },
     "output_type": "display_data"
    }
   ],
   "source": [
    "sns.countplot(df1[\"Puan\"])\n",
    "print(df1['Puan'].value_counts())"
   ]
  },
  {
   "cell_type": "code",
   "execution_count": 20,
   "id": "6825f7f3",
   "metadata": {},
   "outputs": [],
   "source": [
    "df6 = df1[df1['Puan'] == 5].tail(12374)\n",
    "df7 = df1[df1['Puan'] == 1].tail(12374)\n",
    "df_list = [df6, df7]\n",
    "df8 = pd.concat(df_list,ignore_index=True)"
   ]
  },
  {
   "cell_type": "code",
   "execution_count": 21,
   "id": "27a31a95",
   "metadata": {},
   "outputs": [],
   "source": [
    "df8 = df8.sample(24748)"
   ]
  },
  {
   "cell_type": "markdown",
   "id": "0bb05ae6",
   "metadata": {},
   "source": [
    "### Stopwordlerin çıkarılması"
   ]
  },
  {
   "cell_type": "code",
   "execution_count": 22,
   "id": "4837162a",
   "metadata": {},
   "outputs": [],
   "source": [
    "yorumlar = df8['Yorum']\n",
    "stop_words = stopwords.words('turkish')"
   ]
  },
  {
   "cell_type": "code",
   "execution_count": 23,
   "id": "094f4bdb",
   "metadata": {},
   "outputs": [
    {
     "data": {
      "text/plain": [
       "['acaba',\n",
       " 'ama',\n",
       " 'aslında',\n",
       " 'az',\n",
       " 'bazı',\n",
       " 'belki',\n",
       " 'biri',\n",
       " 'birkaç',\n",
       " 'birşey',\n",
       " 'biz',\n",
       " 'bu',\n",
       " 'çok',\n",
       " 'çünkü',\n",
       " 'da',\n",
       " 'daha',\n",
       " 'de',\n",
       " 'defa',\n",
       " 'diye',\n",
       " 'eğer',\n",
       " 'en',\n",
       " 'gibi',\n",
       " 'hem',\n",
       " 'hep',\n",
       " 'hepsi',\n",
       " 'her',\n",
       " 'hiç',\n",
       " 'için',\n",
       " 'ile',\n",
       " 'ise',\n",
       " 'kez',\n",
       " 'ki',\n",
       " 'kim',\n",
       " 'mı',\n",
       " 'mu',\n",
       " 'mü',\n",
       " 'nasıl',\n",
       " 'ne',\n",
       " 'neden',\n",
       " 'nerde',\n",
       " 'nerede',\n",
       " 'nereye',\n",
       " 'niçin',\n",
       " 'niye',\n",
       " 'o',\n",
       " 'sanki',\n",
       " 'şey',\n",
       " 'siz',\n",
       " 'şu',\n",
       " 'tüm',\n",
       " 've',\n",
       " 'veya',\n",
       " 'ya',\n",
       " 'yani']"
      ]
     },
     "execution_count": 23,
     "metadata": {},
     "output_type": "execute_result"
    }
   ],
   "source": [
    "stop_words"
   ]
  },
  {
   "cell_type": "code",
   "execution_count": 24,
   "id": "77fc87d0",
   "metadata": {},
   "outputs": [],
   "source": [
    "def remove_stopwords(yorum):\n",
    "    yorum_listesi = yorum.split() # yorumu kelimelere ayırır\n",
    "    yeni_yorum = [] # stopwordleri çıkartılmış yorumu bu listeye ekleyeceğiz\n",
    "    for kelime in yorum_listesi: # yorumdaki her bir kelime için\n",
    "        if kelime not in stop_words: # kelime stopword değilse\n",
    "            yeni_yorum.append(kelime) # yeni_yorum listesine ekle\n",
    "    return ' '.join(yeni_yorum) # listeyi tekrar cümle haline getirip döndür\n",
    "\n",
    "yorumlar_stopword_cikarilmis = yorumlar.apply(remove_stopwords)"
   ]
  },
  {
   "cell_type": "code",
   "execution_count": 25,
   "id": "b7f49eb9",
   "metadata": {},
   "outputs": [
    {
     "name": "stdout",
     "output_type": "stream",
     "text": [
      "16289    basit yalın dili var anlamsız ilkokul kitapı g...\n",
      "20461    Ben bütün olmayan konulardan pek hoşlanmadığım...\n",
      "23842    Murakami nin etkisiz kitabı benim A wild sheep...\n",
      "18232    Değinilen konular güzel fakat aynı şeyler süre...\n",
      "9367     Kutlu Hoca nın güzel eserini tekrar yayınlayan...\n",
      "                               ...                        \n",
      "12752    Kitabın ele aldığı konu çıkış noktası etkileyi...\n",
      "989               Auster in okunması gereken kitaplarından\n",
      "10140    Müthiş bir kitap müthiş olmamasını gerektirice...\n",
      "23319    İlkinde haksızlık ediyorum diyip ikinci bir ba...\n",
      "22258    sanırım çeviriden dolayı kitap akıcı değil umd...\n",
      "Name: Yorum, Length: 24748, dtype: object\n"
     ]
    }
   ],
   "source": [
    "print(yorumlar_stopword_cikarilmis)"
   ]
  },
  {
   "cell_type": "code",
   "execution_count": 26,
   "id": "5d0ace88",
   "metadata": {},
   "outputs": [],
   "source": [
    "df9 = df8.copy() # comments dataframe'ini kopyalayın\n",
    "df9['Yorum'] = yorumlar_stopword_cikarilmis # yorumlar sütununu güncelleyin\n",
    "\n",
    "\n"
   ]
  },
  {
   "cell_type": "markdown",
   "id": "2fe7be92",
   "metadata": {},
   "source": [
    "### Bu aşamadan sonra 0 olumsuz yorum, 1 olumlu yorum olarak kodlanmıştır."
   ]
  },
  {
   "cell_type": "code",
   "execution_count": 27,
   "id": "62fdf60e",
   "metadata": {},
   "outputs": [],
   "source": [
    "df9.loc[df9['Puan'] == 1, 'Puan'] = 0\n",
    "df9.loc[df9['Puan'] == 5, 'Puan'] = 1"
   ]
  },
  {
   "cell_type": "code",
   "execution_count": 28,
   "id": "4e12613f",
   "metadata": {},
   "outputs": [
    {
     "name": "stdout",
     "output_type": "stream",
     "text": [
      "0    12374\n",
      "1    12374\n",
      "Name: Puan, dtype: int64\n"
     ]
    }
   ],
   "source": [
    "print(df9['Puan'].value_counts())"
   ]
  },
  {
   "cell_type": "code",
   "execution_count": 29,
   "id": "7351147c",
   "metadata": {},
   "outputs": [],
   "source": [
    "df9.to_csv('kitap_yorum_24748.csv', index=False)"
   ]
  },
  {
   "cell_type": "code",
   "execution_count": 30,
   "id": "ec017bce",
   "metadata": {},
   "outputs": [
    {
     "data": {
      "text/html": [
       "<div>\n",
       "<style scoped>\n",
       "    .dataframe tbody tr th:only-of-type {\n",
       "        vertical-align: middle;\n",
       "    }\n",
       "\n",
       "    .dataframe tbody tr th {\n",
       "        vertical-align: top;\n",
       "    }\n",
       "\n",
       "    .dataframe thead th {\n",
       "        text-align: right;\n",
       "    }\n",
       "</style>\n",
       "<table border=\"1\" class=\"dataframe\">\n",
       "  <thead>\n",
       "    <tr style=\"text-align: right;\">\n",
       "      <th></th>\n",
       "      <th>Puan</th>\n",
       "      <th>Yorum</th>\n",
       "    </tr>\n",
       "  </thead>\n",
       "  <tbody>\n",
       "    <tr>\n",
       "      <th>16289</th>\n",
       "      <td>0</td>\n",
       "      <td>basit yalın dili var anlamsız ilkokul kitapı g...</td>\n",
       "    </tr>\n",
       "    <tr>\n",
       "      <th>20461</th>\n",
       "      <td>0</td>\n",
       "      <td>Ben bütün olmayan konulardan pek hoşlanmadığım...</td>\n",
       "    </tr>\n",
       "    <tr>\n",
       "      <th>23842</th>\n",
       "      <td>0</td>\n",
       "      <td>Murakami nin etkisiz kitabı benim A wild sheep...</td>\n",
       "    </tr>\n",
       "    <tr>\n",
       "      <th>18232</th>\n",
       "      <td>0</td>\n",
       "      <td>Değinilen konular güzel fakat aynı şeyler süre...</td>\n",
       "    </tr>\n",
       "    <tr>\n",
       "      <th>9367</th>\n",
       "      <td>1</td>\n",
       "      <td>Kutlu Hoca nın güzel eserini tekrar yayınlayan...</td>\n",
       "    </tr>\n",
       "    <tr>\n",
       "      <th>...</th>\n",
       "      <td>...</td>\n",
       "      <td>...</td>\n",
       "    </tr>\n",
       "    <tr>\n",
       "      <th>12752</th>\n",
       "      <td>0</td>\n",
       "      <td>Kitabın ele aldığı konu çıkış noktası etkileyi...</td>\n",
       "    </tr>\n",
       "    <tr>\n",
       "      <th>989</th>\n",
       "      <td>1</td>\n",
       "      <td>Auster in okunması gereken kitaplarından</td>\n",
       "    </tr>\n",
       "    <tr>\n",
       "      <th>10140</th>\n",
       "      <td>1</td>\n",
       "      <td>Müthiş bir kitap müthiş olmamasını gerektirice...</td>\n",
       "    </tr>\n",
       "    <tr>\n",
       "      <th>23319</th>\n",
       "      <td>0</td>\n",
       "      <td>İlkinde haksızlık ediyorum diyip ikinci bir ba...</td>\n",
       "    </tr>\n",
       "    <tr>\n",
       "      <th>22258</th>\n",
       "      <td>0</td>\n",
       "      <td>sanırım çeviriden dolayı kitap akıcı değil umd...</td>\n",
       "    </tr>\n",
       "  </tbody>\n",
       "</table>\n",
       "<p>24748 rows × 2 columns</p>\n",
       "</div>"
      ],
      "text/plain": [
       "       Puan                                              Yorum\n",
       "16289     0  basit yalın dili var anlamsız ilkokul kitapı g...\n",
       "20461     0  Ben bütün olmayan konulardan pek hoşlanmadığım...\n",
       "23842     0  Murakami nin etkisiz kitabı benim A wild sheep...\n",
       "18232     0  Değinilen konular güzel fakat aynı şeyler süre...\n",
       "9367      1  Kutlu Hoca nın güzel eserini tekrar yayınlayan...\n",
       "...     ...                                                ...\n",
       "12752     0  Kitabın ele aldığı konu çıkış noktası etkileyi...\n",
       "989       1           Auster in okunması gereken kitaplarından\n",
       "10140     1  Müthiş bir kitap müthiş olmamasını gerektirice...\n",
       "23319     0  İlkinde haksızlık ediyorum diyip ikinci bir ba...\n",
       "22258     0  sanırım çeviriden dolayı kitap akıcı değil umd...\n",
       "\n",
       "[24748 rows x 2 columns]"
      ]
     },
     "execution_count": 30,
     "metadata": {},
     "output_type": "execute_result"
    }
   ],
   "source": [
    "df9"
   ]
  },
  {
   "cell_type": "markdown",
   "id": "7ca112bc",
   "metadata": {},
   "source": [
    "------"
   ]
  },
  {
   "cell_type": "markdown",
   "id": "fcf5a947",
   "metadata": {},
   "source": [
    "-----"
   ]
  },
  {
   "cell_type": "markdown",
   "id": "36536881",
   "metadata": {},
   "source": [
    "# Makine Öğrenmesi Modelleri"
   ]
  },
  {
   "cell_type": "code",
   "execution_count": 31,
   "id": "3202a155",
   "metadata": {},
   "outputs": [],
   "source": [
    "from sklearn.feature_extraction.text import CountVectorizer\n",
    "from sklearn.model_selection import train_test_split\n",
    "from sklearn.metrics import accuracy_score, confusion_matrix, r2_score\n",
    "from sklearn.linear_model import LogisticRegression\n",
    "from sklearn.neighbors import KNeighborsClassifier\n",
    "from sklearn.tree import DecisionTreeClassifier\n",
    "from sklearn.ensemble import RandomForestClassifier\n",
    "from sklearn import svm\n",
    "import sklearn.metrics as metrics\n",
    "\n",
    "\n",
    "\n"
   ]
  },
  {
   "cell_type": "code",
   "execution_count": 32,
   "id": "7cef199c",
   "metadata": {},
   "outputs": [],
   "source": [
    "# CSV dosyasının okunması ve dataframe olarak yüklenmesi\n",
    "df = pd.read_csv('kitap_yorum_10402.csv') ## Dataset-1 \n",
    "df2 = pd.read_csv('kitap_yorum_24748.csv') ## Dataset-2\n"
   ]
  },
  {
   "cell_type": "markdown",
   "id": "46815003",
   "metadata": {},
   "source": [
    "### Dataset -1- (10402 Yorum) düzenlenmesi"
   ]
  },
  {
   "cell_type": "markdown",
   "id": "ad1c1cbb",
   "metadata": {},
   "source": [
    "CountVectorizer, bir metin dosyasındaki kelimeleri sayılarına göre ölçeklendirir ve bu kelimeleri bir vektör olarak ifade eder. \n"
   ]
  },
  {
   "cell_type": "markdown",
   "id": "309fce49",
   "metadata": {},
   "source": [
    "# Veri setinde kullanılacak özelliklerin seçilmesi\n",
    "X = df['Yorum'] # Yorumların sütunu\n",
    "y = df['Puan'] # Etiketlerin sütunu\n",
    "\n",
    "\n",
    "# Özelliklerin ölçeklendirilmesi\n",
    "vectorizer = CountVectorizer()\n",
    "X = vectorizer.fit_transform(X)\n",
    "\n",
    "# Veri setinin eğitim %67  ve test %33 verilerine ayrılması\n",
    "X_train, X_test, y_train, y_test = train_test_split(X, y, test_size=0.33, random_state=42)"
   ]
  },
  {
   "cell_type": "code",
   "execution_count": 33,
   "id": "0ab80576",
   "metadata": {},
   "outputs": [],
   "source": [
    "import pickle\n",
    "from sklearn.feature_extraction.text import CountVectorizer\n",
    "\n",
    "# Veri setinde kullanılacak özelliklerin seçilmesi\n",
    "X = df['Yorum'] # Yorumların sütunu\n",
    "y = df['Puan'] # Etiketlerin sütunu\n",
    "\n",
    "\n",
    "vectorizer = CountVectorizer()\n",
    "X = vectorizer.fit_transform(X)\n",
    "\n",
    "pickle.dump(vectorizer, open(\"vectorizer.pickle\", \"wb\"))\n",
    "\n",
    "# Veri setinin eğitim %67  ve test %33 verilerine ayrılması\n",
    "X_train, X_test, y_train, y_test = train_test_split(X, y, test_size=0.33, random_state=42)\n",
    "\n",
    "\n"
   ]
  },
  {
   "cell_type": "markdown",
   "id": "af622e3b",
   "metadata": {},
   "source": [
    "### Dataset -2- (24748 Yorum)  verisetlerin düzenlenmesi"
   ]
  },
  {
   "cell_type": "code",
   "execution_count": 34,
   "id": "9a8bf168",
   "metadata": {},
   "outputs": [],
   "source": [
    "X2 = df2['Yorum'] \n",
    "y2 = df2['Puan']\n",
    "vectorizer2 = CountVectorizer()\n",
    "X2 = vectorizer2.fit_transform(X2)\n",
    "X2_train, X2_test, y2_train, y2_test = train_test_split(X2, y2, test_size=0.33, random_state=42)"
   ]
  },
  {
   "cell_type": "markdown",
   "id": "1744ff91",
   "metadata": {},
   "source": [
    "## Logistik Regresyon Algoritması"
   ]
  },
  {
   "cell_type": "code",
   "execution_count": 35,
   "id": "45e719f9",
   "metadata": {},
   "outputs": [
    {
     "name": "stdout",
     "output_type": "stream",
     "text": [
      "Modelin Başarısı: 0.8566851150597146\n"
     ]
    }
   ],
   "source": [
    "## DataSet 1 ile Logistik Regresyon modelinin oluşturulması. \n",
    "lrmodel = LogisticRegression(solver='lbfgs',class_weight='balanced', max_iter=10000)\n",
    "\n",
    "lrmodel.fit(X_train, y_train)\n",
    "\n",
    "basari = lrmodel.score(X_test, y_test)\n",
    "\n",
    "print(\"Modelin Başarısı:\", basari)\n",
    "\n",
    "mod_file = 'lrmodel.model'\n",
    "pickle.dump(lrmodel, open(mod_file, 'wb'))\n"
   ]
  },
  {
   "cell_type": "code",
   "execution_count": 36,
   "id": "99222361",
   "metadata": {},
   "outputs": [
    {
     "name": "stdout",
     "output_type": "stream",
     "text": [
      "              precision    recall  f1-score   support\n",
      "\n",
      "           0       0.88      0.83      0.85      1721\n",
      "           1       0.84      0.88      0.86      1712\n",
      "\n",
      "    accuracy                           0.86      3433\n",
      "   macro avg       0.86      0.86      0.86      3433\n",
      "weighted avg       0.86      0.86      0.86      3433\n",
      "\n"
     ]
    },
    {
     "data": {
      "image/png": "[encoded data removed]",
      "text/plain": [
       "<Figure size 432x288 with 2 Axes>"
      ]
     },
     "metadata": {
      "needs_background": "light"
     },
     "output_type": "display_data"
    }
   ],
   "source": [
    "tahminler = lrmodel.predict(X_test)\n",
    "print(metrics.classification_report(y_test,tahminler))\n",
    "cm = confusion_matrix(y_test, tahminler)\n",
    "sns.heatmap(cm, annot=True, fmt='d')\n",
    "plt.xlabel('Gerçek Değerler')\n",
    "plt.ylabel('Tahmin Edilen Değerler')\n",
    "plt.title('Logistic Regresyon Confusion Matrix')\n",
    "plt.show()"
   ]
  },
  {
   "cell_type": "code",
   "execution_count": 37,
   "id": "d9c0f25b",
   "metadata": {},
   "outputs": [
    {
     "name": "stdout",
     "output_type": "stream",
     "text": [
      "Modelin Başarısı: 0.8602914166768704\n"
     ]
    }
   ],
   "source": [
    "## DataSet 2 ile Logistik Regresyon modelinin oluşturulması\n",
    "\n",
    "lr2model = LogisticRegression(solver='lbfgs',class_weight='balanced', max_iter=10000)\n",
    "\n",
    "lr2model.fit(X2_train, y2_train)\n",
    "\n",
    "basari = lr2model.score(X2_test, y2_test)\n",
    "\n",
    "\n",
    "print(\"Modelin Başarısı:\", basari)"
   ]
  },
  {
   "cell_type": "code",
   "execution_count": 38,
   "id": "5a4249d0",
   "metadata": {},
   "outputs": [
    {
     "name": "stdout",
     "output_type": "stream",
     "text": [
      "              precision    recall  f1-score   support\n",
      "\n",
      "           0       0.88      0.84      0.86      4059\n",
      "           1       0.84      0.88      0.86      4108\n",
      "\n",
      "    accuracy                           0.86      8167\n",
      "   macro avg       0.86      0.86      0.86      8167\n",
      "weighted avg       0.86      0.86      0.86      8167\n",
      "\n"
     ]
    },
    {
     "data": {
      "image/png": "[encoded data removed]",
      "text/plain": [
       "<Figure size 432x288 with 2 Axes>"
      ]
     },
     "metadata": {
      "needs_background": "light"
     },
     "output_type": "display_data"
    }
   ],
   "source": [
    "tahminler = lr2model.predict(X2_test)\n",
    "print(metrics.classification_report(y2_test,tahminler))\n",
    "cm = confusion_matrix(y2_test, tahminler)\n",
    "sns.heatmap(cm, annot=True, fmt='d')\n",
    "plt.xlabel('Gerçek Değerler')\n",
    "plt.ylabel('Tahmin Edilen Değerler')\n",
    "plt.title('Logistic Regresyon Confusion Matrix')\n",
    "plt.show()"
   ]
  },
  {
   "cell_type": "markdown",
   "id": "503a646c",
   "metadata": {},
   "source": [
    "## KNN Algoritması"
   ]
  },
  {
   "cell_type": "code",
   "execution_count": 74,
   "id": "911f0877",
   "metadata": {},
   "outputs": [
    {
     "name": "stdout",
     "output_type": "stream",
     "text": [
      "Modelin Başarısı: 0.6702592484707253\n"
     ]
    }
   ],
   "source": [
    "## Dataset 1 ile Knn modelinin oluşturulması\n",
    "knn = KNeighborsClassifier(n_neighbors=1)\n",
    "knn.fit(X_train, y_train)\n",
    "knn_accuracy = knn.score(X_test, y_test)\n",
    "\n",
    "## Burada modeli kaydediyoruz. \n",
    "mod_file = 'knnmodel.model'\n",
    "pickle.dump(knn, open(mod_file, 'wb'))\n",
    "\n",
    "print(\"Modelin Başarısı:\", knn_accuracy)"
   ]
  },
  {
   "cell_type": "code",
   "execution_count": 75,
   "id": "d5f0de9c",
   "metadata": {},
   "outputs": [
    {
     "name": "stdout",
     "output_type": "stream",
     "text": [
      "k = 2 için doğruluk: 0.66501602097291\n",
      "k = 3 için doğruluk: 0.6851150597145353\n",
      "k = 4 için doğruluk: 0.6941450626274396\n",
      "k = 5 için doğruluk: 0.7098747451208856\n",
      "k = 6 için doğruluk: 0.7017186134576172\n",
      "k = 7 için doğruluk: 0.7090008738712497\n",
      "k = 8 için doğruluk: 0.7057966792892514\n",
      "k = 9 için doğruluk: 0.7078357122050685\n"
     ]
    }
   ],
   "source": [
    "## k değeri 100'e kadar döndürüldü en ideal k değeri \"3\" belirlendi. Satır sayısı az olması için döngü 10\n",
    "for i in range(2,10):\n",
    "    knn = KNeighborsClassifier(n_neighbors=i)\n",
    "    knn.fit(X_train, y_train)\n",
    "    basari = knn.score(X_test, y_test)\n",
    "    print(\"k =\", i, \"için doğruluk:\", basari)"
   ]
  },
  {
   "cell_type": "code",
   "execution_count": 41,
   "id": "8120a0bb",
   "metadata": {},
   "outputs": [
    {
     "name": "stdout",
     "output_type": "stream",
     "text": [
      "              precision    recall  f1-score   support\n",
      "\n",
      "           0       0.73      0.66      0.69      1721\n",
      "           1       0.69      0.76      0.72      1712\n",
      "\n",
      "    accuracy                           0.71      3433\n",
      "   macro avg       0.71      0.71      0.71      3433\n",
      "weighted avg       0.71      0.71      0.71      3433\n",
      "\n"
     ]
    },
    {
     "data": {
      "image/png": "[encoded data removed]",
      "text/plain": [
       "<Figure size 432x288 with 2 Axes>"
      ]
     },
     "metadata": {
      "needs_background": "light"
     },
     "output_type": "display_data"
    }
   ],
   "source": [
    "tahminler = knn.predict(X_test)\n",
    "print(metrics.classification_report(y_test,tahminler))\n",
    "cm = confusion_matrix(y_test, tahminler)\n",
    "sns.heatmap(cm, annot=True, fmt='d')\n",
    "plt.xlabel('Gerçek Değerler')\n",
    "plt.ylabel('Tahmin Edilen Değerler')\n",
    "plt.title('KNN Confusion Matrix')\n",
    "plt.show()"
   ]
  },
  {
   "cell_type": "code",
   "execution_count": 42,
   "id": "3c2cc808",
   "metadata": {},
   "outputs": [
    {
     "name": "stdout",
     "output_type": "stream",
     "text": [
      "Başarı: 0.7191135055712011\n"
     ]
    }
   ],
   "source": [
    "## Dataset 2 ile Knn modelinin oluşturulması\n",
    "knn2 = KNeighborsClassifier(n_neighbors=15)\n",
    "\n",
    "knn2.fit(X2_train, y2_train)\n",
    "\n",
    "knn_accuracy2 = knn2.score(X2_test, y2_test)\n",
    "\n",
    "\n",
    "print(\"Başarı:\", knn_accuracy2)"
   ]
  },
  {
   "cell_type": "code",
   "execution_count": 43,
   "id": "c8dc4399",
   "metadata": {},
   "outputs": [
    {
     "name": "stdout",
     "output_type": "stream",
     "text": [
      "k = 2 için doğruluk: 0.6538508632300722\n",
      "k = 3 için doğruluk: 0.7006244643075793\n",
      "k = 4 için doğruluk: 0.6850740786090364\n",
      "k = 5 için doğruluk: 0.7088282110934248\n",
      "k = 6 için doğruluk: 0.6951144851230562\n",
      "k = 7 için doğruluk: 0.7160524060242439\n",
      "k = 8 için doğruluk: 0.7028284559813885\n",
      "k = 9 için doğruluk: 0.71776662177054\n",
      "k = 10 için doğruluk: 0.7052773356189543\n",
      "k = 11 için doğruluk: 0.7202155014081058\n",
      "k = 12 için doğruluk: 0.7102975388759643\n",
      "k = 13 için doğruluk: 0.7166646259336353\n",
      "k = 14 için doğruluk: 0.7094404310028162\n",
      "k = 15 için doğruluk: 0.7191135055712011\n"
     ]
    }
   ],
   "source": [
    "## k değeri 100'e kadar döndürüldü en ideal k değeri \"15\" belirlendi. Satır sayısı az olması için döngü 16\n",
    "for i in range(2,16):\n",
    "    knn = KNeighborsClassifier(n_neighbors=i)\n",
    "    knn.fit(X2_train, y2_train)\n",
    "    basari = knn.score(X2_test, y2_test)\n",
    "    print(\"k =\", i, \"için doğruluk:\", basari)"
   ]
  },
  {
   "cell_type": "code",
   "execution_count": 44,
   "id": "ae7ea6c1",
   "metadata": {},
   "outputs": [
    {
     "name": "stdout",
     "output_type": "stream",
     "text": [
      "              precision    recall  f1-score   support\n",
      "\n",
      "           0       0.71      0.73      0.72      4059\n",
      "           1       0.73      0.71      0.72      4108\n",
      "\n",
      "    accuracy                           0.72      8167\n",
      "   macro avg       0.72      0.72      0.72      8167\n",
      "weighted avg       0.72      0.72      0.72      8167\n",
      "\n"
     ]
    },
    {
     "data": {
      "image/png": "[encoded data removed]",
      "text/plain": [
       "<Figure size 432x288 with 2 Axes>"
      ]
     },
     "metadata": {
      "needs_background": "light"
     },
     "output_type": "display_data"
    }
   ],
   "source": [
    "tahminler = knn2.predict(X2_test)\n",
    "print(metrics.classification_report(y2_test,tahminler))\n",
    "cm = confusion_matrix(y2_test, tahminler)\n",
    "sns.heatmap(cm, annot=True, fmt='d')\n",
    "plt.xlabel('Gerçek Değerler')\n",
    "plt.ylabel('Tahmin Edilen Değerler')\n",
    "plt.title('KNN Confusion Matrix')\n",
    "plt.show()"
   ]
  },
  {
   "cell_type": "markdown",
   "id": "5cee77df",
   "metadata": {},
   "source": [
    "## Decision Tree Algoritması"
   ]
  },
  {
   "cell_type": "code",
   "execution_count": 45,
   "id": "17cc9861",
   "metadata": {},
   "outputs": [
    {
     "name": "stdout",
     "output_type": "stream",
     "text": [
      "Modelin Başarısı: 0.7856102534226624\n"
     ]
    }
   ],
   "source": [
    "## Dataset 1 ile Decision Tree modelinin oluşturulması\n",
    "dt = DecisionTreeClassifier()\n",
    "\n",
    "dt.fit(X_train, y_train)\n",
    "\n",
    "result = dt.score(X_test, y_test)\n",
    "\n",
    "## Burada modeli kaydediyoruz. \n",
    "mod_file = 'dtmodel.model'\n",
    "pickle.dump(dt, open(mod_file, 'wb'))\n",
    "\n",
    "print(\"Modelin Başarısı:\", result)\n"
   ]
  },
  {
   "cell_type": "code",
   "execution_count": 46,
   "id": "c20f73e8",
   "metadata": {},
   "outputs": [
    {
     "name": "stdout",
     "output_type": "stream",
     "text": [
      "              precision    recall  f1-score   support\n",
      "\n",
      "           0       0.80      0.76      0.78      1721\n",
      "           1       0.77      0.81      0.79      1712\n",
      "\n",
      "    accuracy                           0.79      3433\n",
      "   macro avg       0.79      0.79      0.79      3433\n",
      "weighted avg       0.79      0.79      0.79      3433\n",
      "\n"
     ]
    },
    {
     "data": {
      "image/png": "[encoded data removed]",
      "text/plain": [
       "<Figure size 432x288 with 2 Axes>"
      ]
     },
     "metadata": {
      "needs_background": "light"
     },
     "output_type": "display_data"
    }
   ],
   "source": [
    "tahminler = dt.predict(X_test)\n",
    "print(metrics.classification_report(y_test,tahminler))\n",
    "cm = confusion_matrix(y_test, tahminler)\n",
    "sns.heatmap(cm, annot=True, fmt='d')\n",
    "plt.xlabel('Gerçek Değerler')\n",
    "plt.ylabel('Tahmin Edilen Değerler')\n",
    "plt.title('Decision Tree Confusion Matrix')\n",
    "plt.show()"
   ]
  },
  {
   "cell_type": "code",
   "execution_count": 47,
   "id": "bd5a5823",
   "metadata": {},
   "outputs": [
    {
     "name": "stdout",
     "output_type": "stream",
     "text": [
      "Modelin Başarısı: 0.7827843761479123\n"
     ]
    }
   ],
   "source": [
    "## Dataset 2 ile Decision Tree modelinin oluşturulması\n",
    "dt2 = DecisionTreeClassifier()\n",
    "\n",
    "dt2.fit(X2_train, y2_train)\n",
    "\n",
    "result = dt2.score(X2_test, y2_test)\n",
    "\n",
    "print(\"Modelin Başarısı:\", result)"
   ]
  },
  {
   "cell_type": "code",
   "execution_count": 48,
   "id": "1be817ee",
   "metadata": {},
   "outputs": [
    {
     "name": "stdout",
     "output_type": "stream",
     "text": [
      "              precision    recall  f1-score   support\n",
      "\n",
      "           0       0.79      0.77      0.78      4059\n",
      "           1       0.78      0.80      0.79      4108\n",
      "\n",
      "    accuracy                           0.78      8167\n",
      "   macro avg       0.78      0.78      0.78      8167\n",
      "weighted avg       0.78      0.78      0.78      8167\n",
      "\n"
     ]
    },
    {
     "data": {
      "image/png": "[encoded data removed]",
      "text/plain": [
       "<Figure size 432x288 with 2 Axes>"
      ]
     },
     "metadata": {
      "needs_background": "light"
     },
     "output_type": "display_data"
    }
   ],
   "source": [
    "tahminler = dt2.predict(X2_test)\n",
    "print(metrics.classification_report(y2_test,tahminler))\n",
    "cm = confusion_matrix(y2_test, tahminler)\n",
    "sns.heatmap(cm, annot=True, fmt='d')\n",
    "plt.xlabel('Gerçek Değerler')\n",
    "plt.ylabel('Tahmin Edilen Değerler')\n",
    "plt.title('Decision Tree Confusion Matrix')\n",
    "plt.show()"
   ]
  },
  {
   "cell_type": "markdown",
   "id": "f143c66a",
   "metadata": {},
   "source": [
    "## Random Forest Algoritması"
   ]
  },
  {
   "cell_type": "code",
   "execution_count": 49,
   "id": "5b3363ce",
   "metadata": {},
   "outputs": [
    {
     "name": "stdout",
     "output_type": "stream",
     "text": [
      "Modelin başarısı: 0.837459947567725\n"
     ]
    }
   ],
   "source": [
    "## Dataset 1 ile Random Forest modelinin oluşturulması\n",
    "rfc = RandomForestClassifier()\n",
    "\n",
    "\n",
    "rfc.fit(X_train, y_train)\n",
    "\n",
    "basari = rfc.score(X_test, y_test)\n",
    "## Burada modeli kaydediyoruz. \n",
    "mod_file = 'rfcmodel.model'\n",
    "pickle.dump(rfc, open(mod_file, 'wb'))\n",
    "\n",
    "print('Modelin başarısı:', basari)\n"
   ]
  },
  {
   "cell_type": "code",
   "execution_count": 50,
   "id": "0b0bbce8",
   "metadata": {},
   "outputs": [
    {
     "name": "stdout",
     "output_type": "stream",
     "text": [
      "              precision    recall  f1-score   support\n",
      "\n",
      "           0       0.87      0.80      0.83      1721\n",
      "           1       0.81      0.88      0.84      1712\n",
      "\n",
      "    accuracy                           0.84      3433\n",
      "   macro avg       0.84      0.84      0.84      3433\n",
      "weighted avg       0.84      0.84      0.84      3433\n",
      "\n"
     ]
    },
    {
     "data": {
      "image/png": "[encoded data removed]",
      "text/plain": [
       "<Figure size 432x288 with 2 Axes>"
      ]
     },
     "metadata": {
      "needs_background": "light"
     },
     "output_type": "display_data"
    }
   ],
   "source": [
    "tahminler = rfc.predict(X_test)\n",
    "print(metrics.classification_report(y_test,tahminler))\n",
    "cm = confusion_matrix(y_test, tahminler)\n",
    "sns.heatmap(cm, annot=True, fmt='d')\n",
    "plt.xlabel('Gerçek Değerler')\n",
    "plt.ylabel('Tahmin Edilen Değerler')\n",
    "plt.title('Random Forest Confusion Matrix')\n",
    "plt.show()"
   ]
  },
  {
   "cell_type": "code",
   "execution_count": 51,
   "id": "b97cece2",
   "metadata": {},
   "outputs": [
    {
     "name": "stdout",
     "output_type": "stream",
     "text": [
      "Modelin başarısı: 0.8384963879025346\n"
     ]
    }
   ],
   "source": [
    "## Dataset 2 ile Random Forest modelinin oluşturulması\n",
    "\n",
    "rfc2 = RandomForestClassifier()\n",
    "\n",
    "\n",
    "rfc2.fit(X2_train, y2_train)\n",
    "\n",
    "basari = rfc2.score(X2_test, y2_test)\n",
    "\n",
    "\n",
    "print('Modelin başarısı:', basari)\n"
   ]
  },
  {
   "cell_type": "code",
   "execution_count": 52,
   "id": "becfd0f4",
   "metadata": {},
   "outputs": [
    {
     "name": "stdout",
     "output_type": "stream",
     "text": [
      "              precision    recall  f1-score   support\n",
      "\n",
      "           0       0.85      0.82      0.84      4059\n",
      "           1       0.83      0.85      0.84      4108\n",
      "\n",
      "    accuracy                           0.84      8167\n",
      "   macro avg       0.84      0.84      0.84      8167\n",
      "weighted avg       0.84      0.84      0.84      8167\n",
      "\n"
     ]
    },
    {
     "data": {
      "image/png": "[encoded data removed]",
      "text/plain": [
       "<Figure size 432x288 with 2 Axes>"
      ]
     },
     "metadata": {
      "needs_background": "light"
     },
     "output_type": "display_data"
    }
   ],
   "source": [
    "tahminler = rfc2.predict(X2_test)\n",
    "print(metrics.classification_report(y2_test,tahminler))\n",
    "cm = confusion_matrix(y2_test, tahminler)\n",
    "sns.heatmap(cm, annot=True, fmt='d')\n",
    "plt.xlabel('Gerçek Değerler')\n",
    "plt.ylabel('Tahmin Edilen Değerler')\n",
    "plt.title('Random Forest Confusion Matrix')\n",
    "plt.show()"
   ]
  },
  {
   "cell_type": "markdown",
   "id": "df9b9bae",
   "metadata": {},
   "source": [
    "## Support Vector Machine Algoritması"
   ]
  },
  {
   "cell_type": "code",
   "execution_count": 53,
   "id": "d3835138",
   "metadata": {},
   "outputs": [
    {
     "name": "stdout",
     "output_type": "stream",
     "text": [
      "Modelin başarısı: 0.8485289833964462\n"
     ]
    }
   ],
   "source": [
    "#Dataset 1 ile SVM modelinin oluşturulması\n",
    "\n",
    "svm_model = svm.SVC(kernel = 'linear')\n",
    "\n",
    "svm_model.fit(X_train, y_train)\n",
    "\n",
    "basari = svm_model.score(X_test, y_test)\n",
    "## Burada modeli kaydediyoruz. \n",
    "mod_file = 'svmmodel.model'\n",
    "pickle.dump(svm_model, open(mod_file, 'wb'))\n",
    "\n",
    "print('Modelin başarısı:', basari)"
   ]
  },
  {
   "cell_type": "code",
   "execution_count": 54,
   "id": "8115813d",
   "metadata": {},
   "outputs": [
    {
     "name": "stdout",
     "output_type": "stream",
     "text": [
      "              precision    recall  f1-score   support\n",
      "\n",
      "           0       0.87      0.83      0.85      1721\n",
      "           1       0.83      0.87      0.85      1712\n",
      "\n",
      "    accuracy                           0.85      3433\n",
      "   macro avg       0.85      0.85      0.85      3433\n",
      "weighted avg       0.85      0.85      0.85      3433\n",
      "\n"
     ]
    },
    {
     "data": {
      "image/png": "[encoded data removed]",
      "text/plain": [
       "<Figure size 432x288 with 2 Axes>"
      ]
     },
     "metadata": {
      "needs_background": "light"
     },
     "output_type": "display_data"
    }
   ],
   "source": [
    "tahminler = svm_model.predict(X_test)\n",
    "print(metrics.classification_report(y_test,tahminler))\n",
    "cm = confusion_matrix(y_test, tahminler)\n",
    "sns.heatmap(cm, annot=True, fmt='d')\n",
    "plt.xlabel('Gerçek Değerler')\n",
    "plt.ylabel('Tahmin Edilen Değerler')\n",
    "plt.title('SVM Confusion Matrix')\n",
    "plt.show()"
   ]
  },
  {
   "cell_type": "code",
   "execution_count": 55,
   "id": "0d9d3aa7",
   "metadata": {},
   "outputs": [
    {
     "name": "stdout",
     "output_type": "stream",
     "text": [
      "Modelin başarısı: 0.8444961430145709\n"
     ]
    }
   ],
   "source": [
    "#Dataset 2 ile SVM modelinin oluşturulması\n",
    "\n",
    "svm_model2 = svm.SVC(kernel = 'linear')\n",
    "\n",
    "svm_model2.fit(X2_train, y2_train)\n",
    "\n",
    "basari = svm_model2.score(X2_test, y2_test)\n",
    "\n",
    "print('Modelin başarısı:', basari)"
   ]
  },
  {
   "cell_type": "code",
   "execution_count": 56,
   "id": "65ff3802",
   "metadata": {},
   "outputs": [
    {
     "name": "stdout",
     "output_type": "stream",
     "text": [
      "              precision    recall  f1-score   support\n",
      "\n",
      "           0       0.85      0.83      0.84      4059\n",
      "           1       0.84      0.86      0.85      4108\n",
      "\n",
      "    accuracy                           0.84      8167\n",
      "   macro avg       0.84      0.84      0.84      8167\n",
      "weighted avg       0.84      0.84      0.84      8167\n",
      "\n"
     ]
    },
    {
     "data": {
      "image/png": "[encoded data removed]",
      "text/plain": [
       "<Figure size 432x288 with 2 Axes>"
      ]
     },
     "metadata": {
      "needs_background": "light"
     },
     "output_type": "display_data"
    }
   ],
   "source": [
    "tahminler = svm_model2.predict(X2_test)\n",
    "print(metrics.classification_report(y2_test,tahminler))\n",
    "cm = confusion_matrix(y2_test, tahminler)\n",
    "sns.heatmap(cm, annot=True, fmt='d')\n",
    "plt.xlabel('Gerçek Değerler')\n",
    "plt.ylabel('Tahmin Edilen Değerler')\n",
    "plt.title('SVM Confusion Matrix')\n",
    "plt.show()"
   ]
  },
  {
   "cell_type": "markdown",
   "id": "d7d4f716",
   "metadata": {},
   "source": [
    "## Support Vector Machine Algoritması"
   ]
  },
  {
   "cell_type": "code",
   "execution_count": 57,
   "id": "05e142e6",
   "metadata": {},
   "outputs": [
    {
     "name": "stdout",
     "output_type": "stream",
     "text": [
      "Modelin başarısı: 0.8695018933877076\n"
     ]
    }
   ],
   "source": [
    "from sklearn.naive_bayes import MultinomialNB        # using multiNomial Naive Bayes as classifier\n",
    "\n",
    "MNB= MultinomialNB()\n",
    "MNB.fit(X_train, y_train)\n",
    "\n",
    "basari = MNB.score(X_test, y_test)\n",
    "## Burada modeli kaydediyoruz. \n",
    "mod_file = 'MNBmodel.model'\n",
    "pickle.dump(MNB, open(mod_file, 'wb'))\n",
    "\n",
    "print('Modelin başarısı:', basari)\n"
   ]
  },
  {
   "cell_type": "code",
   "execution_count": 58,
   "id": "a774d43c",
   "metadata": {},
   "outputs": [
    {
     "name": "stdout",
     "output_type": "stream",
     "text": [
      "              precision    recall  f1-score   support\n",
      "\n",
      "           0       0.88      0.86      0.87      1721\n",
      "           1       0.86      0.88      0.87      1712\n",
      "\n",
      "    accuracy                           0.87      3433\n",
      "   macro avg       0.87      0.87      0.87      3433\n",
      "weighted avg       0.87      0.87      0.87      3433\n",
      "\n"
     ]
    },
    {
     "data": {
      "image/png": "[encoded data removed]",
      "text/plain": [
       "<Figure size 432x288 with 2 Axes>"
      ]
     },
     "metadata": {
      "needs_background": "light"
     },
     "output_type": "display_data"
    }
   ],
   "source": [
    "tahminler = MNB.predict(X_test)\n",
    "print(metrics.classification_report(y_test,tahminler))\n",
    "cm = confusion_matrix(y_test, tahminler)\n",
    "sns.heatmap(cm, annot=True, fmt='d')\n",
    "plt.xlabel('Gerçek Değerler')\n",
    "plt.ylabel('Tahmin Edilen Değerler')\n",
    "plt.title('Naive Bayes Confusion Matrix')\n",
    "plt.show()"
   ]
  },
  {
   "cell_type": "markdown",
   "id": "a0481b6a",
   "metadata": {},
   "source": [
    "----"
   ]
  },
  {
   "cell_type": "markdown",
   "id": "5bcffebd",
   "metadata": {},
   "source": [
    "# Test Aşaması"
   ]
  },
  {
   "cell_type": "code",
   "execution_count": 82,
   "id": "ae192c7a",
   "metadata": {},
   "outputs": [],
   "source": [
    "text1 = \"Kitabın sayfa sayısı çok fazla olmasına rağmen içi boş\"\n",
    "text2 = \"Verdiğim paraya değecek bir kitaptı\"\n",
    "text3 = \"Sevdiğim yazar ve ilgimi çeken bir konu olmasına rağmen güzel bir kitap sayılmaz\"\n",
    "text4 = \"Okuduğum en başarılı kitaplardan biri\"\n",
    "text5 = \"Karakterler, hikaye akışı, kitabın kapağı rezalet berbat ötesi elle tutulur hiç bir yanı yok \"\n",
    "text6 = \"Okuduğum zamana yazık \"\n",
    "text7 = \"Bu kitabı basan yayınevi batsın gitsin kesilen ağaca yazık\"\n",
    "text8 = \"hiç bu kadar kötü bir satıcıya denk gelmemiştim ürünü geri iade ediyorum\"\n",
    "text9 = \"Kalitenin buram buram koktuğu bir kitap\"\n",
    "text10 = \"Gayet akıcı bir kitap.\"\n",
    "yazilar = [text1, text2, text3, text4, text5, text6, text7, text8, text9, text10]\n",
    "loaded_vectorizer = pickle.load(open('vectorizer.pickle', 'rb'))\n",
    "vector= loaded_vectorizer.transform(yazilar)"
   ]
  },
  {
   "cell_type": "markdown",
   "id": "df968166",
   "metadata": {},
   "source": [
    "## Logistik Regresyon"
   ]
  },
  {
   "cell_type": "code",
   "execution_count": 83,
   "id": "626a9308",
   "metadata": {},
   "outputs": [
    {
     "name": "stdout",
     "output_type": "stream",
     "text": [
      "[0 1 1 1 0 0 0 0 1 1]\n",
      "1 . Cümle Olumsuz\n",
      "2 . Cümle Olumlu\n",
      "3 . Cümle Olumlu\n",
      "4 . Cümle Olumlu\n",
      "5 . Cümle Olumsuz\n",
      "6 . Cümle Olumsuz\n",
      "7 . Cümle Olumsuz\n",
      "8 . Cümle Olumsuz\n",
      "9 . Cümle Olumlu\n",
      "10 . Cümle Olumlu\n"
     ]
    }
   ],
   "source": [
    "# load the model\n",
    "loaded_lrmodel = pickle.load(open('lrmodel.model', 'rb'))\n",
    "testlr=loaded_lrmodel.predict(vector)\n",
    "print(testlr)\n",
    "for i in range(len(yazilar)):\n",
    "    if testlr[i]==1:\n",
    "        print(i+1,\". Cümle Olumlu\")\n",
    "    else:\n",
    "        print(i+1,\". Cümle Olumsuz\")"
   ]
  },
  {
   "cell_type": "markdown",
   "id": "cf562431",
   "metadata": {},
   "source": [
    "## KNN "
   ]
  },
  {
   "cell_type": "code",
   "execution_count": 84,
   "id": "07dc286e",
   "metadata": {},
   "outputs": [
    {
     "name": "stdout",
     "output_type": "stream",
     "text": [
      "[0 0 0 1 1 0 0 0 0 0]\n",
      "1 . Cümle Olumsuz\n",
      "2 . Cümle Olumsuz\n",
      "3 . Cümle Olumsuz\n",
      "4 . Cümle Olumlu\n",
      "5 . Cümle Olumlu\n",
      "6 . Cümle Olumsuz\n",
      "7 . Cümle Olumsuz\n",
      "8 . Cümle Olumsuz\n",
      "9 . Cümle Olumsuz\n",
      "10 . Cümle Olumsuz\n"
     ]
    }
   ],
   "source": [
    "# load the model\n",
    "loaded_knnmodel = pickle.load(open('knnmodel.model', 'rb'))\n",
    "testknn=loaded_knnmodel.predict(vector)\n",
    "print(testknn)\n",
    "for i in range(len(yazilar)):\n",
    "    if testknn[i]==1:\n",
    "        print(i+1,\". Cümle Olumlu\")\n",
    "    else:\n",
    "        print(i+1,\". Cümle Olumsuz\")"
   ]
  },
  {
   "cell_type": "markdown",
   "id": "2622a0a1",
   "metadata": {},
   "source": [
    "## Decision Tree"
   ]
  },
  {
   "cell_type": "code",
   "execution_count": 87,
   "id": "80705770",
   "metadata": {},
   "outputs": [
    {
     "name": "stdout",
     "output_type": "stream",
     "text": [
      "[0 1 1 1 0 0 0 0 1 1]\n",
      "1 . Cümle Olumsuz\n",
      "2 . Cümle Olumlu\n",
      "3 . Cümle Olumlu\n",
      "4 . Cümle Olumlu\n",
      "5 . Cümle Olumsuz\n",
      "6 . Cümle Olumsuz\n",
      "7 . Cümle Olumsuz\n",
      "8 . Cümle Olumsuz\n",
      "9 . Cümle Olumlu\n",
      "10 . Cümle Olumlu\n"
     ]
    }
   ],
   "source": [
    "# load the model\n",
    "loaded_dtmodel = pickle.load(open('dtmodel.model', 'rb'))\n",
    "testdt=loaded_dtmodel.predict(vector)\n",
    "print(testdt)\n",
    "for i in range(len(yazilar)):\n",
    "    if testdt[i]==1:\n",
    "        print(i+1,\". Cümle Olumlu\")\n",
    "    else:\n",
    "        print(i+1,\". Cümle Olumsuz\")"
   ]
  },
  {
   "cell_type": "markdown",
   "id": "23e6ae11",
   "metadata": {},
   "source": [
    "## Random Forest"
   ]
  },
  {
   "cell_type": "code",
   "execution_count": 88,
   "id": "15a57e9a",
   "metadata": {},
   "outputs": [
    {
     "name": "stdout",
     "output_type": "stream",
     "text": [
      "[0 1 1 1 0 0 0 0 1 1]\n",
      "1 . Cümle Olumsuz\n",
      "2 . Cümle Olumlu\n",
      "3 . Cümle Olumlu\n",
      "4 . Cümle Olumlu\n",
      "5 . Cümle Olumsuz\n",
      "6 . Cümle Olumsuz\n",
      "7 . Cümle Olumsuz\n",
      "8 . Cümle Olumsuz\n",
      "9 . Cümle Olumlu\n",
      "10 . Cümle Olumlu\n"
     ]
    }
   ],
   "source": [
    "# load the model\n",
    "loaded_rfcmodel = pickle.load(open('rfcmodel.model', 'rb'))\n",
    "testrfc=loaded_rfcmodel.predict(vector)\n",
    "print(testrfc)\n",
    "for i in range(len(yazilar)):\n",
    "    if testrfc[i]==1:\n",
    "        print(i+1,\". Cümle Olumlu\")\n",
    "    else:\n",
    "        print(i+1,\". Cümle Olumsuz\")"
   ]
  },
  {
   "cell_type": "markdown",
   "id": "3220e731",
   "metadata": {},
   "source": [
    "## Support Vector Machine"
   ]
  },
  {
   "cell_type": "code",
   "execution_count": 89,
   "id": "1f815a95",
   "metadata": {},
   "outputs": [
    {
     "name": "stdout",
     "output_type": "stream",
     "text": [
      "[0 1 1 1 0 0 0 0 1 1]\n",
      "1 . Cümle Olumsuz\n",
      "2 . Cümle Olumlu\n",
      "3 . Cümle Olumlu\n",
      "4 . Cümle Olumlu\n",
      "5 . Cümle Olumsuz\n",
      "6 . Cümle Olumsuz\n",
      "7 . Cümle Olumsuz\n",
      "8 . Cümle Olumsuz\n",
      "9 . Cümle Olumlu\n",
      "10 . Cümle Olumlu\n"
     ]
    }
   ],
   "source": [
    "# load the model\n",
    "loaded_svmmodel = pickle.load(open('svmmodel.model', 'rb'))\n",
    "testsvm=loaded_svmmodel.predict(vector)\n",
    "print(testsvm)\n",
    "for i in range(len(yazilar)):\n",
    "    if testsvm[i]==1:\n",
    "        print(i+1,\". Cümle Olumlu\")\n",
    "    else:\n",
    "        print(i+1,\". Cümle Olumsuz\")"
   ]
  },
  {
   "cell_type": "markdown",
   "id": "037da509",
   "metadata": {},
   "source": [
    "## Naive Bayes"
   ]
  },
  {
   "cell_type": "code",
   "execution_count": 90,
   "id": "d83f0405",
   "metadata": {},
   "outputs": [
    {
     "name": "stdout",
     "output_type": "stream",
     "text": [
      "[0 0 0 1 0 0 0 0 1 1]\n",
      "1 . Cümle Olumsuz\n",
      "2 . Cümle Olumsuz\n",
      "3 . Cümle Olumsuz\n",
      "4 . Cümle Olumlu\n",
      "5 . Cümle Olumsuz\n",
      "6 . Cümle Olumsuz\n",
      "7 . Cümle Olumsuz\n",
      "8 . Cümle Olumsuz\n",
      "9 . Cümle Olumlu\n",
      "10 . Cümle Olumlu\n"
     ]
    }
   ],
   "source": [
    "# load the model\n",
    "loaded_MNBmodel = pickle.load(open('MNBmodel.model', 'rb'))\n",
    "testnb=loaded_MNBmodel.predict(vector)\n",
    "print(testnb)\n",
    "for i in range(len(yazilar)):\n",
    "    if testnb[i]==1:\n",
    "        print(i+1,\". Cümle Olumlu\")\n",
    "    else:\n",
    "        print(i+1,\". Cümle Olumsuz\")"
   ]
  },
  {
   "cell_type": "code",
   "execution_count": null,
   "id": "3573e32f",
   "metadata": {},
   "outputs": [],
   "source": []
  },
  {
   "cell_type": "code",
   "execution_count": null,
   "id": "829f5f67",
   "metadata": {},
   "outputs": [],
   "source": []
  },
  {
   "cell_type": "code",
   "execution_count": null,
   "id": "c2583571",
   "metadata": {},
   "outputs": [],
   "source": []
  },
  {
   "cell_type": "code",
   "execution_count": null,
   "id": "2d983c90",
   "metadata": {},
   "outputs": [],
   "source": []
  }
 ],
 "metadata": {
  "kernelspec": {
   "display_name": "Python 3 (ipykernel)",
   "language": "python",
   "name": "python3"
  },
  "language_info": {
   "codemirror_mode": {
    "name": "ipython",
    "version": 3
   },
   "file_extension": ".py",
   "mimetype": "text/x-python",
   "name": "python",
   "nbconvert_exporter": "python",
   "pygments_lexer": "ipython3",
   "version": "3.9.12"
  }
 },
 "nbformat": 4,
 "nbformat_minor": 5
}
